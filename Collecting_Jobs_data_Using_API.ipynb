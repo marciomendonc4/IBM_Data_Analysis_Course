{
  "cells": [
    {
      "metadata": {
        "id": "ZkSWQM2RPovh"
      },
      "cell_type": "markdown",
      "source": [
        "# **Collecting Job Data Using APIs**\n"
      ]
    },
    {
      "metadata": {
        "id": "svMvF5H0Povi"
      },
      "cell_type": "markdown",
      "source": [
        "## Objectives\n"
      ]
    },
    {
      "metadata": {
        "id": "Nf-_7yU_Povj"
      },
      "cell_type": "markdown",
      "source": [
        "*   Collect job data.\n",
        "*   Store the collected data into an excel spreadsheet.\n"
      ]
    },
    {
      "metadata": {
        "id": "2FDeTIzCPovm"
      },
      "cell_type": "markdown",
      "source": [
        "## Dataset Used\n",
        "\n",
        "The dataset used in this lab comes from the following source: [https://www.kaggle.com/promptcloud/jobs-on-naukricom](https://www.kaggle.com/promptcloud/jobs-on-naukricom?utm_medium=Exinfluencer&utm_source=Exinfluencer&utm_content=000026UJ&utm_term=10006555&utm_id=NA-SkillsNetwork-Channel-SkillsNetworkCoursesIBMDA0321ENSkillsNetwork21426264-2021-01-01) under the under a **Public Domain license**.\n",
        "\n"
      ]
    },
    {
      "metadata": {
        "id": "EbGziRXBPovn"
      },
      "cell_type": "markdown",
      "source": [
        "## Warm-Up Exercise\n"
      ]
    },
    {
      "metadata": {
        "id": "FHIDqrf-Povo"
      },
      "cell_type": "markdown",
      "source": [
        "Using an API, let us find out who currently are on the International Space Station (ISS).<br> The API at [http://api.open-notify.org/astros.json](http://api.open-notify.org/astros.json?utm_medium=Exinfluencer&utm_source=Exinfluencer&utm_content=000026UJ&utm_term=10006555&utm_id=NA-SkillsNetwork-Channel-SkillsNetworkCoursesIBMDA0321ENSkillsNetwork21426264-2021-01-01&cm_mmc=Email_Newsletter-\\_-Developer_Ed%2BTech-\\_-WW_WW-\\_-SkillsNetwork-Courses-IBM-DA0321EN-SkillsNetwork-21426264&cm_mmca1=000026UJ&cm_mmca2=10006555&cm_mmca3=M12345678&cvosrc=email.Newsletter.M12345678&cvo_campaign=000026UJ) gives us the information of astronauts currently on ISS in json format.<br>\n",
        "You can read more about this API at [http://open-notify.org/Open-Notify-API/People-In-Space/](http://open-notify.org/Open-Notify-API/People-In-Space?utm_medium=Exinfluencer&utm_source=Exinfluencer&utm_content=000026UJ&utm_term=10006555&utm_id=NA-SkillsNetwork-Channel-SkillsNetworkCoursesIBMDA0321ENSkillsNetwork21426264-2021-01-01&cm_mmc=Email_Newsletter-\\_-Developer_Ed%2BTech-\\_-WW_WW-\\_-SkillsNetwork-Courses-IBM-DA0321EN-SkillsNetwork-21426264&cm_mmca1=000026UJ&cm_mmca2=10006555&cm_mmca3=M12345678&cvosrc=email.Newsletter.M12345678&cvo_campaign=000026UJ)\n"
      ]
    },
    {
      "metadata": {
        "id": "2qJy2LwXPovp"
      },
      "cell_type": "code",
      "source": [
        "import requests # you need this module to make an API call\n",
        "import pandas as pd"
      ],
      "execution_count": null,
      "outputs": []
    },
    {
      "metadata": {
        "id": "AB06Y_UQPovr"
      },
      "cell_type": "code",
      "source": [
        "api_url = \"http://api.open-notify.org/astros.json\" # this url gives use the astronaut data"
      ],
      "execution_count": null,
      "outputs": []
    },
    {
      "metadata": {
        "id": "KOOSG3-TPovr"
      },
      "cell_type": "code",
      "source": [
        "response = requests.get(api_url) # Call the API using the get method and store the\n",
        "                                # output of the API call in a variable called response."
      ],
      "execution_count": null,
      "outputs": []
    },
    {
      "metadata": {
        "id": "CZz5HdyTPovs"
      },
      "cell_type": "code",
      "source": [
        "if response.ok:             # if all is well() no errors, no network timeouts)\n",
        "    data = response.json()  # store the result in json format in a variable called data\n",
        "                            # the variable data is of type dictionary."
      ],
      "execution_count": null,
      "outputs": []
    },
    {
      "metadata": {
        "id": "zja9XX1YPovt",
        "outputId": "278948eb-68f2-4ad5-e053-4f02eb51a087"
      },
      "cell_type": "code",
      "source": [
        "print(data)   # print the data just to check the output or for debugging"
      ],
      "execution_count": null,
      "outputs": [
        {
          "output_type": "stream",
          "text": "{'message': 'success', 'number': 11, 'people': [{'name': 'Raja Chari', 'craft': 'ISS'}, {'name': 'Tom Marshburn', 'craft': 'ISS'}, {'name': 'Kayla Barron', 'craft': 'ISS'}, {'name': 'Matthias Maurer', 'craft': 'ISS'}, {'name': 'Oleg Artemyev', 'craft': 'ISS'}, {'name': 'Denis Matveev', 'craft': 'ISS'}, {'name': 'Sergey Korsakov', 'craft': 'ISS'}, {'name': 'Kjell Lindgren', 'craft': 'ISS'}, {'name': 'Bob Hines', 'craft': 'ISS'}, {'name': 'Samantha Cristoforetti', 'craft': 'ISS'}, {'name': 'Jessica Watkins', 'craft': 'ISS'}]}\n",
          "name": "stdout"
        }
      ]
    },
    {
      "metadata": {
        "id": "lDaNaeqoPovv"
      },
      "cell_type": "markdown",
      "source": [
        "Print the number of astronauts currently on ISS.\n"
      ]
    },
    {
      "metadata": {
        "id": "soz5lWT9Povv",
        "outputId": "468b83fa-06ee-4c2c-c5dc-c51423862af2"
      },
      "cell_type": "code",
      "source": [
        "print(data.get('number'))\n",
        "print(data['people'])"
      ],
      "execution_count": null,
      "outputs": [
        {
          "output_type": "stream",
          "text": "11\n[{'name': 'Raja Chari', 'craft': 'ISS'}, {'name': 'Tom Marshburn', 'craft': 'ISS'}, {'name': 'Kayla Barron', 'craft': 'ISS'}, {'name': 'Matthias Maurer', 'craft': 'ISS'}, {'name': 'Oleg Artemyev', 'craft': 'ISS'}, {'name': 'Denis Matveev', 'craft': 'ISS'}, {'name': 'Sergey Korsakov', 'craft': 'ISS'}, {'name': 'Kjell Lindgren', 'craft': 'ISS'}, {'name': 'Bob Hines', 'craft': 'ISS'}, {'name': 'Samantha Cristoforetti', 'craft': 'ISS'}, {'name': 'Jessica Watkins', 'craft': 'ISS'}]\n",
          "name": "stdout"
        }
      ]
    },
    {
      "metadata": {
        "id": "BIMg4pFmPovw"
      },
      "cell_type": "markdown",
      "source": [
        "Print the names of the astronauts currently on ISS.\n"
      ]
    },
    {
      "metadata": {
        "id": "Gcs9_ZoePovw",
        "outputId": "6c4828bf-738a-4112-a064-c43381be8973"
      },
      "cell_type": "code",
      "source": [
        "astronauts = data.get('people')\n",
        "print(f\"There are {len(astronauts)} astronauts on ISS\")\n",
        "print(\"And their names are :\")\n",
        "for i, astronaut in enumerate(astronauts):\n",
        "    #print(astronaut.get('name'))\n",
        "    print(f'{i+1}: {astronaut[\"name\"]}, craft: {astronaut[\"craft\"]}')"
      ],
      "execution_count": null,
      "outputs": [
        {
          "output_type": "stream",
          "text": "There are 11 astronauts on ISS\nAnd their names are :\n1: Raja Chari, craft: ISS\n2: Tom Marshburn, craft: ISS\n3: Kayla Barron, craft: ISS\n4: Matthias Maurer, craft: ISS\n5: Oleg Artemyev, craft: ISS\n6: Denis Matveev, craft: ISS\n7: Sergey Korsakov, craft: ISS\n8: Kjell Lindgren, craft: ISS\n9: Bob Hines, craft: ISS\n10: Samantha Cristoforetti, craft: ISS\n11: Jessica Watkins, craft: ISS\n",
          "name": "stdout"
        }
      ]
    },
    {
      "metadata": {
        "id": "0CqHJMSkPovy"
      },
      "cell_type": "markdown",
      "source": [
        "# Collecting Jobs Data using Jobs API\n"
      ]
    },
    {
      "metadata": {
        "id": "OOi8g6QMPovy"
      },
      "cell_type": "markdown",
      "source": [
        "### Objective: Determine the number of jobs currently open for various technologies  and for various locations\n"
      ]
    },
    {
      "metadata": {
        "id": "hU5WYtrZPovy"
      },
      "cell_type": "markdown",
      "source": [
        "Collect the number of job postings for the following locations using the API:\n",
        "\n",
        "*   Los Angeles\n",
        "*   New York\n",
        "*   San Francisco\n",
        "*   Washington DC\n",
        "*   Seattle\n",
        "*   Austin\n",
        "*   Detroit\n"
      ]
    },
    {
      "metadata": {
        "id": "UOWbE818Povz"
      },
      "cell_type": "code",
      "source": [
        "#Import required libraries\n",
        "import pandas as pd\n",
        "import json"
      ],
      "execution_count": null,
      "outputs": []
    },
    {
      "metadata": {
        "id": "mMlScoFuPovz"
      },
      "cell_type": "markdown",
      "source": [
        "#### Write a function to get the number of jobs for the Python technology.<br>\n",
        "\n",
        "> Note: While using the lab you need to pass the **payload** information for the **params** attribute in the form of **key** **value** pairs.\n",
        "\n",
        "Refer the ungraded **rest api lab** in the course **Python for Data Science, AI & Development**  <a href=\"https://www.coursera.org/learn/python-for-applied-data-science-ai/ungradedLti/P6sW8/hands-on-lab-access-rest-apis-request-http?utm_medium=Exinfluencer&utm_source=Exinfluencer&utm_content=000026UJ&utm_term=10006555&utm_id=NA-SkillsNetwork-Channel-SkillsNetworkCoursesIBMDA0321ENSkillsNetwork21426264-2021-01-01\">link</a>\n",
        "\n",
        "##### The keys in the json are\n",
        "\n",
        "*   Job Title\n",
        "\n",
        "*   Job Experience Required\n",
        "\n",
        "*   Key Skills\n",
        "\n",
        "*   Role Category\n",
        "\n",
        "*   Location\n",
        "\n",
        "*   Functional Area\n",
        "\n",
        "*   Industry\n",
        "\n",
        "*   Role\n",
        "\n",
        "You can also view  the json file contents  from the following <a href = \"https://cf-courses-data.s3.us.cloud-object-storage.appdomain.cloud/IBM-DA0321EN-SkillsNetwork/labs/module%201/Accessing%20Data%20Using%20APIs/jobs.json?utm_medium=Exinfluencer&utm_source=Exinfluencer&utm_content=000026UJ&utm_term=10006555&utm_id=NA-SkillsNetwork-Channel-SkillsNetworkCoursesIBMDA0321ENSkillsNetwork21426264-2021-01-01\">json</a> URL.\n"
      ]
    },
    {
      "metadata": {
        "id": "_UZ6Jz-1Pov0"
      },
      "cell_type": "code",
      "source": [
        "#using json link\n",
        "\n",
        "json_url=\"https://cf-courses-data.s3.us.cloud-object-storage.appdomain.cloud/IBM-DA0321EN-SkillsNetwork/labs/module%201/Accessing%20Data%20Using%20APIs/jobs.json?utm_medium=Exinfluencer&utm_source=Exinfluencer&utm_content=000026UJ&utm_term=10006555&utm_id=NA-SkillsNetwork-Channel-SkillsNetworkCoursesIBMDA0321ENSkillsNetwork21426264-2021-01-01\"\n",
        "\n",
        "def get_number_of_jobs_T(technology):\n",
        "    #your code goes here\n",
        "    number_of_jobs = 0\n",
        "    df = pd.read_json(json_url)\n",
        "    for skills in df['Key Skills']:\n",
        "        if technology in skills:\n",
        "            number_of_jobs += 1\n",
        "    return number_of_jobs\n",
        "\n",
        "#api_url=\"http://127.0.0.1:5000/data\"\n",
        "#def get_number_of_jobs_T(technology):\n",
        "#    number_of_jobs = {technology:0}\n",
        "#    #your code goes here\n",
        "#    payload = {'description':technology,'page':1}           #parameters to search the api\n",
        "#    while True:                                             #Loop to get the data of multiples pages\n",
        "#        r = requests.get(api_url, params=payload)           #Response to be saved\n",
        "#        if r.ok:                                            #to discard errors\n",
        "#            data = r.json()                                 #retrieved data to be counted\n",
        "#            if technology in data['Key Skills']:\n",
        "#             number_of_jobs[technology] += 1     #count of data\n",
        "#            payload[\"page\"] = payload[\"page\"] + 1           #go to the next page\n",
        "#        else:\n",
        "#            break                                           #exit to the loop in case the request is not \"ok\"\n",
        "#        if len(data) != 50:\n",
        "#            break                                           #exit the loop if the data is less than 50 elements, meaning that is the last page.\n",
        "#    return number_of_jobs\n",
        "#"
      ],
      "execution_count": null,
      "outputs": []
    },
    {
      "metadata": {
        "id": "qhB3ovotPov0"
      },
      "cell_type": "markdown",
      "source": [
        "Calling the function for Python and checking if it works.\n"
      ]
    },
    {
      "metadata": {
        "colab": {
          "base_uri": "https://localhost:8080/"
        },
        "id": "Hq269GebPov1",
        "outputId": "328bcee9-e3ee-437c-d000-82a72c840a87"
      },
      "cell_type": "code",
      "source": [
        "print(get_number_of_jobs_T(\"Python\"))"
      ],
      "execution_count": null,
      "outputs": [
        {
          "output_type": "stream",
          "name": "stdout",
          "text": [
            "1173\n"
          ]
        }
      ]
    },
    {
      "metadata": {
        "id": "MmH6xsxqPov1"
      },
      "cell_type": "markdown",
      "source": [
        "#### Write a function to find number of jobs in US for a location of your choice\n"
      ]
    },
    {
      "metadata": {
        "id": "LvKjHEzxPov1"
      },
      "cell_type": "code",
      "source": [
        "def get_number_of_jobs_L(location):\n",
        "    number_of_jobs = 0\n",
        "    df = pd.read_json(json_url)\n",
        "    for city in df['Location']:\n",
        "        if location in city:\n",
        "            number_of_jobs += 1    \n",
        "    #your coe goes here\n",
        "    return location, number_of_jobs"
      ],
      "execution_count": null,
      "outputs": []
    },
    {
      "metadata": {
        "id": "YdGnoTI3Pov2"
      },
      "cell_type": "markdown",
      "source": [
        "Call the function for Los Angeles and check if it is working.\n"
      ]
    },
    {
      "metadata": {
        "colab": {
          "base_uri": "https://localhost:8080/"
        },
        "id": "tDcX5IiuPov2",
        "outputId": "1b5c855b-687f-4471-9408-28a5f8ae8e83"
      },
      "cell_type": "code",
      "source": [
        "#your code goes here\n",
        "location = 'Los Angeles'\n",
        "print(get_number_of_jobs_L(location)[1])\n",
        "\n",
        "# Question 3 - Of all the locations in the list below, which has the maximum number of job postings?\n",
        "L= [\"Los Angeles\", \"New York\", \"San Francisco\", \"Washington DC\", \"Seattle\"]\n",
        "def get_number_jobs_city(cities):\n",
        "    number_of_jobs = {}\n",
        "    df = pd.read_json(json_url)\n",
        "    for city in cities:\n",
        "        number_of_jobs[city] = 0\n",
        "    for city in cities:\n",
        "        for location in df['Location']:\n",
        "            if location == city:\n",
        "                number_of_jobs[city] += 1\n",
        "    return number_of_jobs\n",
        "\n",
        "print(get_number_jobs_city(L))"
      ],
      "execution_count": null,
      "outputs": [
        {
          "output_type": "stream",
          "name": "stdout",
          "text": [
            "640\n",
            "{'Los Angeles': 640, 'New York': 3226, 'San Francisco': 435, 'Washington DC': 5316, 'Seattle': 3375}\n"
          ]
        }
      ]
    },
    {
      "metadata": {
        "id": "MtaQHG5zPov3"
      },
      "cell_type": "markdown",
      "source": [
        "### Store the results in an excel file\n"
      ]
    },
    {
      "metadata": {
        "id": "QjkQCd_lPov3"
      },
      "cell_type": "markdown",
      "source": [
        "Call the API for all the given technologies above and write the results in an excel spreadsheet.\n"
      ]
    },
    {
      "metadata": {
        "id": "zGhwBPZXPov4"
      },
      "cell_type": "markdown",
      "source": [
        "Create a python list of all locations for which you need to find the number of jobs postings.\n"
      ]
    },
    {
      "metadata": {
        "id": "dRbYzE_QPov4"
      },
      "cell_type": "code",
      "source": [
        "#your code goes here\n",
        "locations = ['Los Angeles', 'New York', 'San Francisco', 'Washington DC', 'Seattle', 'Austin', 'Detroit']"
      ],
      "execution_count": null,
      "outputs": []
    },
    {
      "metadata": {
        "id": "NJS8N4UEPov4"
      },
      "cell_type": "markdown",
      "source": [
        "Import libraries required to create excel spreadsheet\n"
      ]
    },
    {
      "metadata": {
        "id": "aWGiEWdRPov5"
      },
      "cell_type": "code",
      "source": [
        "# your code goes here\n",
        "from openpyxl import Workbook"
      ],
      "execution_count": null,
      "outputs": []
    },
    {
      "metadata": {
        "id": "swnphKhcPov5"
      },
      "cell_type": "markdown",
      "source": [
        "Create a workbook and select the active worksheet\n"
      ]
    },
    {
      "metadata": {
        "colab": {
          "base_uri": "https://localhost:8080/"
        },
        "id": "WcbUhKkBPov5",
        "outputId": "3c9ba5f4-5502-4613-d459-6911112909ed"
      },
      "cell_type": "code",
      "source": [
        "# your code goes here\n",
        "wb = Workbook()\n",
        "active_ws = wb.active\n",
        "print(type(active_ws))"
      ],
      "execution_count": null,
      "outputs": [
        {
          "output_type": "stream",
          "name": "stdout",
          "text": [
            "<class 'openpyxl.worksheet.worksheet.Worksheet'>\n"
          ]
        }
      ]
    },
    {
      "metadata": {
        "id": "FYY2oqs6Pov6"
      },
      "cell_type": "markdown",
      "source": [
        "Find the number of jobs postings for each of the location in the above list.\n",
        "Write the Location name and the number of jobs postings into the excel spreadsheet.\n"
      ]
    },
    {
      "metadata": {
        "id": "aTtFFtTwPov6"
      },
      "cell_type": "code",
      "source": [
        "#your code goes here\n",
        "job_postings = get_number_jobs_city(locations)\n",
        "job_postings\n",
        "col = 0\n",
        "for city in job_postings:\n",
        "    roww = 1\n",
        "    col += 1\n",
        "    c = active_ws.cell(row = roww, column = col)\n",
        "    c.value = city\n",
        "    c = active_ws.cell(row = roww+1, column = col)\n",
        "    c.value = job_postings[city]\n",
        "    \n",
        "    "
      ],
      "execution_count": null,
      "outputs": []
    },
    {
      "metadata": {
        "id": "g2bsq8j3Pov7"
      },
      "cell_type": "markdown",
      "source": [
        "Save into an excel spreadsheet named 'job-postings.xlsx'.\n"
      ]
    },
    {
      "metadata": {
        "id": "BsvRoIB0Pov7"
      },
      "cell_type": "code",
      "source": [
        "#your code goes here\n",
        "wb.save('job-postings.xlsx')  "
      ],
      "execution_count": null,
      "outputs": []
    },
    {
      "metadata": {
        "id": "I3mFw7TGPov7"
      },
      "cell_type": "markdown",
      "source": [
        "#### In the similar way, you can try for below given technologies and results  can be stored in an excel sheet.\n"
      ]
    },
    {
      "metadata": {
        "id": "WtjRrZ0DPov8"
      },
      "cell_type": "markdown",
      "source": [
        "Collect the number of job postings for the following languages using the API:\n",
        "\n",
        "*   C\n",
        "*   C#\n",
        "*   C++\n",
        "*   Java\n",
        "*   JavaScript\n",
        "*   Python\n",
        "*   Scala\n",
        "*   Oracle\n",
        "*   SQL Server\n",
        "*   MySQL Server\n",
        "*   PostgreSQL\n",
        "*   MongoDB\n"
      ]
    },
    {
      "metadata": {
        "colab": {
          "base_uri": "https://localhost:8080/"
        },
        "id": "nevCxtc2Pov8",
        "outputId": "c331fa1b-cc37-40a6-c210-bdeef34a7158"
      },
      "cell_type": "code",
      "source": [
        "\n",
        "\n",
        "def get_number_jobs_langs(languages):\n",
        "    number_of_jobs = {}\n",
        "    df = pd.read_json(json_url)\n",
        "    for language in languages:\n",
        "        number_of_jobs[language] = 0\n",
        "    for language in languages:\n",
        "        for skill in df['Key Skills']:\n",
        "            if language.lower() in skill.lower():\n",
        "                number_of_jobs[language] += 1\n",
        "    return number_of_jobs\n",
        "\n"
      ],
      "execution_count": null,
      "outputs": [
        {
          "output_type": "execute_result",
          "data": {
            "text/plain": [
              "{'C': 25114,\n",
              " 'C#': 526,\n",
              " 'C++': 506,\n",
              " 'Java': 3428,\n",
              " 'JavaScript': 2248,\n",
              " 'MongoDB': 208,\n",
              " 'MySQL': 952,\n",
              " 'Oracle': 899,\n",
              " 'PostgreSQL': 86,\n",
              " 'Python': 1173,\n",
              " 'SQL Server': 423,\n",
              " 'Scala': 138}"
            ]
          },
          "metadata": {},
          "execution_count": 15
        }
      ]
    },
    {
      "cell_type": "code",
      "source": [
        "langs = ['C','C#', 'C++', 'Java', 'JavaScript', 'Python', 'Scala', 'Oracle', 'SQL Server', 'MySQL', 'PostgreSQL', 'MongoDB']\n",
        "jobs_languages = get_number_jobs_langs(langs)\n",
        "\n",
        "#creating a workbook\n",
        "wb1 = Workbook()\n",
        "active_ws1 = wb1.active\n",
        "col = 0\n",
        "for lang in langs:\n",
        "  roww = 1\n",
        "  col += 1\n",
        "  c = active_ws1.cell(row = roww, column = col)\n",
        "  c.value = lang\n",
        "  c = active_ws1.cell(row = roww+1, column = col)\n",
        "  c.value = jobs_languages[lang]\n",
        "\n",
        "#saving\n",
        "wb1.save('job-postings-langs.xlsx')\n"
      ],
      "metadata": {
        "id": "VlkX4ebrRz8k"
      },
      "execution_count": null,
      "outputs": []
    },
    {
      "metadata": {
        "id": "I5-L8PQyPov8"
      },
      "cell_type": "markdown",
      "source": [
        "## Author\n"
      ]
    },
    {
      "metadata": {
        "id": "IeovWbgvPov9"
      },
      "cell_type": "markdown",
      "source": [
        "Ayushi Jain\n"
      ]
    },
    {
      "metadata": {
        "id": "DcIqIwvcPov9"
      },
      "cell_type": "markdown",
      "source": [
        "### Other Contributors\n"
      ]
    },
    {
      "metadata": {
        "id": "WzQqNhmmPov9"
      },
      "cell_type": "markdown",
      "source": [
        "Rav Ahuja\n",
        "\n",
        "Lakshmi Holla\n",
        "\n",
        "Malika\n"
      ]
    },
    {
      "metadata": {
        "id": "N_-MXHiGPov9"
      },
      "cell_type": "markdown",
      "source": [
        "## Change Log\n"
      ]
    },
    {
      "metadata": {
        "id": "bthnTU40Pov-"
      },
      "cell_type": "markdown",
      "source": [
        "| Date (YYYY-MM-DD) | Version | Changed By        | Change Description                 |\n",
        "| ----------------- | ------- | ----------------- | ---------------------------------- |\n",
        "| 2022-01-19        | 0.3     | Lakshmi Holla     | Added changes in the markdown      |\n",
        "| 2021-06-25        | 0.2     | Malika            | Updated GitHub job json link       |\n",
        "| 2020-10-17        | 0.1     | Ramesh Sannareddy | Created initial version of the lab |\n"
      ]
    },
    {
      "metadata": {
        "id": "wBHekLoxPov-"
      },
      "cell_type": "markdown",
      "source": [
        "Copyright © 2022 IBM Corporation. All rights reserved.\n"
      ]
    }
  ],
  "metadata": {
    "kernelspec": {
      "name": "python3",
      "display_name": "Python 3.9",
      "language": "python"
    },
    "language_info": {
      "name": "python",
      "version": "3.9.7",
      "mimetype": "text/x-python",
      "codemirror_mode": {
        "name": "ipython",
        "version": 3
      },
      "pygments_lexer": "ipython3",
      "nbconvert_exporter": "python",
      "file_extension": ".py"
    },
    "colab": {
      "name": "Collecting_Jobs_data_Using_API-Questions (1).ipynb",
      "provenance": [],
      "collapsed_sections": []
    }
  },
  "nbformat": 4,
  "nbformat_minor": 0
}