{
  "cells": [
    {
      "cell_type": "markdown",
      "metadata": {
        "id": "5Ly5k_KlVP8L"
      },
      "source": [
        "# **Web Scraping 2**\n"
      ]
    },
    {
      "cell_type": "markdown",
      "metadata": {
        "id": "mhA2wHtGVP8N"
      },
      "source": [
        "## Objectives\n"
      ]
    },
    {
      "cell_type": "markdown",
      "metadata": {
        "id": "1Ey5FcuQVP8O"
      },
      "source": [
        "*   Download a webpage using requests module\n",
        "*   Scrape all links from a web page\n",
        "*   Scrape all image urls from a web page\n",
        "*   Scrape data from html tables\n"
      ]
    },
    {
      "cell_type": "markdown",
      "metadata": {
        "id": "B9NtP2waVP8P"
      },
      "source": [
        "## Scrape [www.ibm.com](http://www.ibm.com/?utm_medium=Exinfluencer&utm_source=Exinfluencer&utm_content=000026UJ&utm_term=10006555&utm_id=NA-SkillsNetwork-Channel-SkillsNetworkCoursesIBMDA0321ENSkillsNetwork21426264-2021-01-01)\n"
      ]
    },
    {
      "cell_type": "markdown",
      "metadata": {
        "id": "R5IrhDzcVP8R"
      },
      "source": [
        "Import the required modules and functions\n"
      ]
    },
    {
      "cell_type": "code",
      "execution_count": null,
      "metadata": {
        "id": "bLBo2w_yVP8S"
      },
      "outputs": [],
      "source": [
        "from bs4 import BeautifulSoup # this module helps in web scrapping.\n",
        "import requests  # this module helps us to download a web page"
      ]
    },
    {
      "cell_type": "markdown",
      "metadata": {
        "id": "bR6kyRgWVP8V"
      },
      "source": [
        "Download the contents of the web page\n"
      ]
    },
    {
      "cell_type": "code",
      "execution_count": null,
      "metadata": {
        "id": "seWSem8_VP8W"
      },
      "outputs": [],
      "source": [
        "url = \"http://www.ibm.com\""
      ]
    },
    {
      "cell_type": "code",
      "execution_count": null,
      "metadata": {
        "id": "2l5qwRvpVP8X"
      },
      "outputs": [],
      "source": [
        "# get the contents of the webpage in text format and store in a variable called data\n",
        "\n",
        "data = requests.get(url).text "
      ]
    },
    {
      "cell_type": "markdown",
      "metadata": {
        "id": "kslIfHvnVP8Y"
      },
      "source": [
        "Create a soup object using the class BeautifulSoup\n"
      ]
    },
    {
      "cell_type": "code",
      "execution_count": null,
      "metadata": {
        "id": "6N0QTgymVP8Z"
      },
      "outputs": [],
      "source": [
        "soup = BeautifulSoup(data, 'html5lib') # create a soup object using the variable 'data'"
      ]
    },
    {
      "cell_type": "markdown",
      "metadata": {
        "id": "7L8-47RFVP8Z"
      },
      "source": [
        "Scrape all links\n"
      ]
    },
    {
      "cell_type": "code",
      "execution_count": null,
      "metadata": {
        "colab": {
          "base_uri": "https://localhost:8080/"
        },
        "id": "bjdjFMcgVP8a",
        "outputId": "87b21186-7dab-4b2a-927e-0ddf03995e18"
      },
      "outputs": [
        {
          "output_type": "stream",
          "name": "stdout",
          "text": [
            "https://www.ibm.com/tw/zh\n",
            "https://www.ibm.com/sitemap/tw/zh\n",
            "https://www.ibm.com/lets-create/\n",
            "/tw-zh/cloud/application-modernization\n",
            "/tw-zh/analytics/journey-to-ai\n",
            "https://www.ibm.com/tw-zh/products/flashsystem-5000?lnk=TWHP\n",
            "https://www.ibm.com/tw-zh/it-infrastructure/storage/flash?lnk=STW_TW_HP_F3_&psrc=NONE&pexp=DEF&lnk2=goto_FlashStorage\n",
            "/tw-zh/cloud/hybrid\n",
            "https://www.ibm.com/tw-zh/products?lnk=STW_TW_HP_SWT5_BLK&psrc=NONE&pexp=DEF&lnk2=trial_PHP\n",
            "https://www.ibm.com/tw-zh/security/security-intelligence/qradar?lnk=STW_TW_HP_SWT1_BLK&psrc=NONE&pexp=DEF&lnk2=trial_QradarPlat\n",
            "https://www.ibm.com/tw-zh/analytics/spss-trials?lnk=STW_TW_HP_SWT1_&psrc=NONE&pexp=DEF&lnk2=goto_SPSSstat\n",
            "https://www.ibm.com/tw-zh/cloud/free?lnk=STW_TW_HP_SWT1_BLK&psrc=NONE&pexp=DEF&lnk2=trial_Cloud\n",
            "https://www.ibm.com/tw-zh/products/cloud-pak-for-data?lnk=STW_TW_HP_SWT2_BLK&psrc=NONE&pexp=DEF&lnk2=trial_CloudPakData\n",
            "https://www.ibm.com/tw-zh/cloud/watson-assistant?lnk=STW_TW_HP_SWT3_BLK&psrc=NONE&pexp=DEF&lnk2=trial_WatAssist\n",
            "https://www.ibm.com/tw-zh/security/identity-access-management/cloud-identity?lnk=STW_TW_HP_SWT4_BLK&psrc=NONE&pexp=DEF&lnk2=trial_VerifyIAM\n",
            "/cloud/hybrid?lnk=hpv18pt14\n",
            "/cloud/learn/public-cloud?lnk=hpv18ct1\n",
            "/watson?lnk=ushpv18pt17\n",
            "/garage?lnk=hpv18pt13\n",
            "/blockchain?lnk=hpv18pt4\n",
            "https://www.ibm.com/thought-leadership/institute-business-value/?lnk=hpv18pt12\n",
            "/analytics?lnk=hpv18pt1\n",
            "/security?lnk=hpv18pt9\n",
            "/financing?lnk=hpv18pt3\n",
            "https://www.ibm.com/quantum-computing?lnk=hpv18pt16\n",
            "/cloud/hybrid?lnk=hpv18ct20\n",
            "/cloud/learn/public-cloud?lnk=hpv18ct1\n",
            "/cloud/redhat?lnk=hpv18ct13\n",
            "https://www.ibm.com/tw-zh/security/zero-trust?lnk=hpv18pt4\n",
            "/watson?lnk=hpv18ct3\n",
            "https://www.ibm.com/quantum-computing?lnk=hpv18ct18\n",
            "/cloud/learn/kubernetes?lnk=hpv18ct8\n",
            "/products/spss-statistics?lnk=ushpv18ct7\n",
            "/blockchain?lnk=hpv18ct1\n",
            "https://www.ibm.com/employment?lnk=hpv18ct2\n",
            "https://developer.ibm.com/depmodels/cloud/?lnk=hpv18ct16\n",
            "https://developer.ibm.com/technologies/artificial-intelligence?lnk=hpv18ct19\n",
            "https://developer.ibm.com/?lnk=hpv18ct9\n",
            "https://www.ibm.com/docs/en/?lnk=hpv18ct14\n",
            "https://www.redbooks.ibm.com/?lnk=ushpv18ct10\n",
            "https://www.ibm.com/support/home/?lnk=hpv18ct11\n",
            "https://www.ibm.com/training/?lnk=hpv18ct15\n",
            "https://www.ibm.com/case-studies/coca-cola-european-partners/?lnk=hpv18cs1\n",
            "/case-studies/search?lnk=hpv18cs2\n",
            "#\n"
          ]
        }
      ],
      "source": [
        "\n",
        "for link in soup.find_all('a'):  # in html anchor/link is represented by the tag <a>\n",
        "    print(link.get('href'))"
      ]
    },
    {
      "cell_type": "markdown",
      "metadata": {
        "id": "2yVgjmrfVP8b"
      },
      "source": [
        "Scrape  all images\n"
      ]
    },
    {
      "cell_type": "code",
      "execution_count": null,
      "metadata": {
        "colab": {
          "base_uri": "https://localhost:8080/"
        },
        "id": "R6VJmPu5VP8b",
        "outputId": "cba83c38-69dc-46a6-c703-b3eb07c266d6"
      },
      "outputs": [
        {
          "output_type": "stream",
          "name": "stdout",
          "text": [
            "//1.cms.s81c.com/sites/default/files/2022-02/security-2_10.jpg\n",
            "//1.cms.s81c.com/sites/default/files/2021-09-02/twhp-mordernize.jpg\n",
            "//1.cms.s81c.com/sites/default/files/2021-09-02/twhp-j2ai.jpg\n",
            "//1.cms.s81c.com/sites/default/files/2021-08-09/twzh-flashsystem-5000.jpg\n",
            "//1.cms.s81c.com/sites/default/files/2021-04-09/20210209-flash-system-5200-storage-25719-444x320_0.jpg\n",
            "//1.cms.s81c.com/sites/default/files/2021-04-09/02dfdf0d-305a-4d56-bc959b60ad35f0c9.jpg\n",
            "//1.cms.s81c.com/sites/default/files/2021-10-26/QRadar-on-Cloud-21400-700x420_3.png\n",
            "//1.cms.s81c.com/sites/default/files/2021-04-26/Original-SPSS-Statistics-23108-700x420.png\n",
            "//1.cms.s81c.com/sites/default/files/2021-02-17/ibm-cloud-trial.png\n",
            "//1.cms.s81c.com/sites/default/files/2021-02-17/cloud-pak-for-data-trial.png\n",
            "//1.cms.s81c.com/sites/default/files/2021-02-17/watson-assistant-trial_0.png\n",
            "//1.cms.s81c.com/sites/default/files/2021-02-19/security-verify-trial.png\n"
          ]
        }
      ],
      "source": [
        "\n",
        "for link in soup.find_all('img'):# in html image is represented by the tag <img>\n",
        "    print(link.get('src'))"
      ]
    },
    {
      "cell_type": "markdown",
      "metadata": {
        "id": "RVO6czXHVP8c"
      },
      "source": [
        "## Scrape data from html tables\n"
      ]
    },
    {
      "cell_type": "code",
      "execution_count": null,
      "metadata": {
        "id": "yeFeLP08VP8d"
      },
      "outputs": [],
      "source": [
        "#The below url contains a html table with data about colors and color codes."
      ]
    },
    {
      "cell_type": "code",
      "execution_count": null,
      "metadata": {
        "id": "U26Sle78VP8e"
      },
      "outputs": [],
      "source": [
        "url = \"https://cf-courses-data.s3.us.cloud-object-storage.appdomain.cloud/IBM-DA0321EN-SkillsNetwork/labs/datasets/HTMLColorCodes.html\""
      ]
    },
    {
      "cell_type": "markdown",
      "metadata": {
        "id": "fao-I6cqVP8g"
      },
      "source": [
        "Before proceeding to scrape a web site, you need to examine the contents, and the way data is organized on the website. Open the above url in your browser and check how many rows and columns are there in the color table.\n"
      ]
    },
    {
      "cell_type": "code",
      "execution_count": null,
      "metadata": {
        "id": "70nCXYxvVP8h"
      },
      "outputs": [],
      "source": [
        "# get the contents of the webpage in text format and store in a variable called data\n",
        "data  = requests.get(url).text"
      ]
    },
    {
      "cell_type": "code",
      "execution_count": null,
      "metadata": {
        "id": "VqmGzLcIVP8h"
      },
      "outputs": [],
      "source": [
        "soup = BeautifulSoup(data,\"html5lib\")"
      ]
    },
    {
      "cell_type": "code",
      "execution_count": null,
      "metadata": {
        "id": "4NPO3i7HVP8i"
      },
      "outputs": [],
      "source": [
        "#find a html table in the web page\n",
        "\n",
        "table = soup.find('table') # in html table is represented by the tag <table>"
      ]
    },
    {
      "cell_type": "code",
      "execution_count": null,
      "metadata": {
        "colab": {
          "base_uri": "https://localhost:8080/"
        },
        "id": "ZjKpEirBVP8i",
        "outputId": "81470221-b55f-4a7a-d88b-790779b1ec97"
      },
      "outputs": [
        {
          "output_type": "stream",
          "name": "stdout",
          "text": [
            "Color Name--->Hex Code#RRGGBB\n",
            "lightsalmon--->#FFA07A\n",
            "salmon--->#FA8072\n",
            "darksalmon--->#E9967A\n",
            "lightcoral--->#F08080\n",
            "coral--->#FF7F50\n",
            "tomato--->#FF6347\n",
            "orangered--->#FF4500\n",
            "gold--->#FFD700\n",
            "orange--->#FFA500\n",
            "darkorange--->#FF8C00\n",
            "lightyellow--->#FFFFE0\n",
            "lemonchiffon--->#FFFACD\n",
            "papayawhip--->#FFEFD5\n",
            "moccasin--->#FFE4B5\n",
            "peachpuff--->#FFDAB9\n",
            "palegoldenrod--->#EEE8AA\n",
            "khaki--->#F0E68C\n",
            "darkkhaki--->#BDB76B\n",
            "yellow--->#FFFF00\n",
            "lawngreen--->#7CFC00\n",
            "chartreuse--->#7FFF00\n",
            "limegreen--->#32CD32\n",
            "lime--->#00FF00\n",
            "forestgreen--->#228B22\n",
            "green--->#008000\n",
            "powderblue--->#B0E0E6\n",
            "lightblue--->#ADD8E6\n",
            "lightskyblue--->#87CEFA\n",
            "skyblue--->#87CEEB\n",
            "deepskyblue--->#00BFFF\n",
            "lightsteelblue--->#B0C4DE\n",
            "dodgerblue--->#1E90FF\n"
          ]
        }
      ],
      "source": [
        "#Get all rows from the table\n",
        "\n",
        "for row in table.find_all('tr'): # in html table row is represented by the tag <tr>\n",
        "    # Get all columns in each row.\n",
        "    cols = row.find_all('td') # in html a column is represented by the tag <td>\n",
        "    color_name = cols[2].getText() # store the value in column 3 as color_name\n",
        "    color_code = cols[3].getText() # store the value in column 4 as color_code\n",
        "    print(\"{}--->{}\".format(color_name,color_code))"
      ]
    },
    {
      "cell_type": "markdown",
      "metadata": {
        "id": "zS8tZ_GPVP8j"
      },
      "source": [
        "## Authors\n"
      ]
    },
    {
      "cell_type": "markdown",
      "metadata": {
        "id": "Nojb7Zg-VP8j"
      },
      "source": [
        "Ramesh Sannareddy\n"
      ]
    },
    {
      "cell_type": "markdown",
      "metadata": {
        "id": "IgfpTTSUVP8k"
      },
      "source": [
        "### Other Contributors\n"
      ]
    },
    {
      "cell_type": "markdown",
      "metadata": {
        "id": "CVDRiF7WVP8k"
      },
      "source": [
        "Rav Ahuja\n"
      ]
    },
    {
      "cell_type": "markdown",
      "metadata": {
        "id": "fwd1VWROVP8k"
      },
      "source": [
        "## Change Log\n"
      ]
    },
    {
      "cell_type": "markdown",
      "metadata": {
        "id": "xJEpP_ziVP8l"
      },
      "source": [
        "| Date (YYYY-MM-DD) | Version | Changed By        | Change Description                 |\n",
        "| ----------------- | ------- | ----------------- | ---------------------------------- |\n",
        "| 2020-10-17        | 0.1     | Ramesh Sannareddy | Created initial version of the lab |\n"
      ]
    },
    {
      "cell_type": "markdown",
      "metadata": {
        "id": "mO_Rl7VrVP8l"
      },
      "source": [
        "Copyright © 2020 IBM Corporation. This notebook and its source code are released under the terms of the [MIT License](https://cognitiveclass.ai/mit-license/?utm_medium=Exinfluencer&utm_source=Exinfluencer&utm_content=000026UJ&utm_term=10006555&utm_id=NA-SkillsNetwork-Channel-SkillsNetworkCoursesIBMDA0321ENSkillsNetwork21426264-2021-01-01).\n"
      ]
    }
  ],
  "metadata": {
    "kernelspec": {
      "display_name": "Python 3",
      "language": "python",
      "name": "python3"
    },
    "language_info": {
      "codemirror_mode": {
        "name": "ipython",
        "version": 3
      },
      "file_extension": ".py",
      "mimetype": "text/x-python",
      "name": "python",
      "nbconvert_exporter": "python",
      "pygments_lexer": "ipython3",
      "version": "3.7.6"
    },
    "colab": {
      "name": "Web-Scraping-Review-Lab.ipynb",
      "provenance": []
    }
  },
  "nbformat": 4,
  "nbformat_minor": 0
}